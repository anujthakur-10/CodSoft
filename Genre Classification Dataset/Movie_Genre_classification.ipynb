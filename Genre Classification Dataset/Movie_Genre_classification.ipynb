{
 "cells": [
  {
   "cell_type": "code",
   "execution_count": null,
   "metadata": {
    "executionInfo": {
     "elapsed": 501,
     "status": "ok",
     "timestamp": 1730880505188,
     "user": {
      "displayName": "Anuj Thakur",
      "userId": "14677829451531454624"
     },
     "user_tz": -330
    },
    "id": "euL_y_o0YCmR"
   },
   "outputs": [],
   "source": [
    "import pandas as pd"
   ]
  },
  {
   "cell_type": "code",
   "execution_count": null,
   "metadata": {
    "executionInfo": {
     "elapsed": 487,
     "status": "ok",
     "timestamp": 1730880544573,
     "user": {
      "displayName": "Anuj Thakur",
      "userId": "14677829451531454624"
     },
     "user_tz": -330
    },
    "id": "pw43rE-XYco3"
   },
   "outputs": [],
   "source": [
    "file_path0 = \"/content/train_data.txt\"\n",
    "file_path1 = \"/content/test_data.txt\"\n",
    "file_path2 = \"/content/test_data_solution.txt\""
   ]
  },
  {
   "cell_type": "code",
   "execution_count": null,
   "metadata": {
    "colab": {
     "base_uri": "https://localhost:8080/"
    },
    "executionInfo": {
     "elapsed": 3952,
     "status": "ok",
     "timestamp": 1730880551102,
     "user": {
      "displayName": "Anuj Thakur",
      "userId": "14677829451531454624"
     },
     "user_tz": -330
    },
    "id": "hUYvRw4oYht4",
    "outputId": "80e16cb2-4423-4dbc-e9de-7306177d4ea1"
   },
   "outputs": [],
   "source": [
    "from google.colab import drive\n",
    "drive.mount('/content/drive')"
   ]
  },
  {
   "cell_type": "code",
   "execution_count": null,
   "metadata": {
    "executionInfo": {
     "elapsed": 454,
     "status": "ok",
     "timestamp": 1730880731806,
     "user": {
      "displayName": "Anuj Thakur",
      "userId": "14677829451531454624"
     },
     "user_tz": -330
    },
    "id": "wVDzq58kI9Pf"
   },
   "outputs": [],
   "source": [
    "from sklearn.feature_extraction.text import CountVectorizer\n"
   ]
  },
  {
   "cell_type": "markdown",
   "metadata": {},
   "source": [
    "Step 1 : Load and Parse Training data."
   ]
  },
  {
   "cell_type": "code",
   "execution_count": null,
   "metadata": {
    "executionInfo": {
     "elapsed": 516,
     "status": "ok",
     "timestamp": 1730881272213,
     "user": {
      "displayName": "Anuj Thakur",
      "userId": "14677829451531454624"
     },
     "user_tz": -330
    },
    "id": "bDkEPBAHh-FX"
   },
   "outputs": [],
   "source": [
    "with open(file_path0, \"r\", encoding=\"utf-8\") as file:\n",
    "    train_lines = file.readlines()"
   ]
  },
  {
   "cell_type": "markdown",
   "metadata": {},
   "source": [
    "Parse the training data"
   ]
  },
  {
   "cell_type": "code",
   "execution_count": null,
   "metadata": {
    "executionInfo": {
     "elapsed": 517,
     "status": "ok",
     "timestamp": 1730881275041,
     "user": {
      "displayName": "Anuj Thakur",
      "userId": "14677829451531454624"
     },
     "user_tz": -330
    },
    "id": "CJ88EEXkYcla"
   },
   "outputs": [],
   "source": [
    "train_data = []\n",
    "for line in train_lines:\n",
    "    parts = line.strip().split(\" ::: \")\n",
    "    train_data.append({\n",
    "        \"ID\" : parts[0],\n",
    "        \"TITLE\" : parts[1],\n",
    "        \"GENRE\" : parts[2],\n",
    "        \"DESCRIPTION\" : parts[3],\n",
    "    })"
   ]
  },
  {
   "cell_type": "markdown",
   "metadata": {},
   "source": [
    "Convert to DataFrame"
   ]
  },
  {
   "cell_type": "code",
   "execution_count": null,
   "metadata": {
    "executionInfo": {
     "elapsed": 4,
     "status": "ok",
     "timestamp": 1730881278304,
     "user": {
      "displayName": "Anuj Thakur",
      "userId": "14677829451531454624"
     },
     "user_tz": -330
    },
    "id": "5i8--YBAYcjE"
   },
   "outputs": [],
   "source": [
    "train_df = pd.DataFrame(train_data)"
   ]
  },
  {
   "cell_type": "markdown",
   "metadata": {},
   "source": [
    "Features and target for training"
   ]
  },
  {
   "cell_type": "code",
   "execution_count": null,
   "metadata": {
    "executionInfo": {
     "elapsed": 513,
     "status": "ok",
     "timestamp": 1730881285507,
     "user": {
      "displayName": "Anuj Thakur",
      "userId": "14677829451531454624"
     },
     "user_tz": -330
    },
    "id": "jihx-izFYcgN"
   },
   "outputs": [],
   "source": [
    "X_train = train_df[\"DESCRIPTION\"]\n",
    "Y_train = train_df[\"GENRE\"]"
   ]
  },
  {
   "cell_type": "markdown",
   "metadata": {},
   "source": [
    "Step 2 : Load and parse testing data"
   ]
  },
  {
   "cell_type": "code",
   "execution_count": null,
   "metadata": {
    "executionInfo": {
     "elapsed": 726,
     "status": "ok",
     "timestamp": 1730881416475,
     "user": {
      "displayName": "Anuj Thakur",
      "userId": "14677829451531454624"
     },
     "user_tz": -330
    },
    "id": "UOxVIS4xYcdU"
   },
   "outputs": [],
   "source": [
    "with open(file_path1, \"r\", encoding=\"utf-8\") as file:\n",
    "    test_lines = file.readlines()"
   ]
  },
  {
   "cell_type": "markdown",
   "metadata": {},
   "source": [
    "Parse testing data"
   ]
  },
  {
   "cell_type": "code",
   "execution_count": null,
   "metadata": {
    "executionInfo": {
     "elapsed": 717,
     "status": "ok",
     "timestamp": 1730881419757,
     "user": {
      "displayName": "Anuj Thakur",
      "userId": "14677829451531454624"
     },
     "user_tz": -330
    },
    "id": "QzoW4WW9Ycaa"
   },
   "outputs": [],
   "source": [
    "test_data = []\n",
    "for line in test_lines:\n",
    "    parts = line.strip().split(\" ::: \")\n",
    "    test_data.append({\n",
    "        \"ID\" : parts[0],\n",
    "        \"TITLE\" : parts[1],\n",
    "        \"DESCRIPTION\" : parts[2],\n",
    "    })"
   ]
  },
  {
   "cell_type": "markdown",
   "metadata": {},
   "source": [
    "Convert to DataFrame"
   ]
  },
  {
   "cell_type": "code",
   "execution_count": null,
   "metadata": {
    "executionInfo": {
     "elapsed": 613,
     "status": "ok",
     "timestamp": 1730881828286,
     "user": {
      "displayName": "Anuj Thakur",
      "userId": "14677829451531454624"
     },
     "user_tz": -330
    },
    "id": "S7ksAFyGYcXY"
   },
   "outputs": [],
   "source": [
    "test_df = pd.DataFrame(test_data)"
   ]
  },
  {
   "cell_type": "code",
   "execution_count": null,
   "metadata": {
    "executionInfo": {
     "elapsed": 445,
     "status": "ok",
     "timestamp": 1730881830486,
     "user": {
      "displayName": "Anuj Thakur",
      "userId": "14677829451531454624"
     },
     "user_tz": -330
    },
    "id": "_z0Bc08uYcUe"
   },
   "outputs": [],
   "source": [
    "X_test = test_df[\"DESCRIPTION\"]"
   ]
  },
  {
   "cell_type": "markdown",
   "metadata": {},
   "source": [
    "Step 3 : Vectorize the text data"
   ]
  },
  {
   "cell_type": "code",
   "execution_count": null,
   "metadata": {
    "executionInfo": {
     "elapsed": 522,
     "status": "ok",
     "timestamp": 1730881833245,
     "user": {
      "displayName": "Anuj Thakur",
      "userId": "14677829451531454624"
     },
     "user_tz": -330
    },
    "id": "miPs0O46YcRm"
   },
   "outputs": [],
   "source": [
    "vectorizer = CountVectorizer()"
   ]
  },
  {
   "cell_type": "code",
   "execution_count": null,
   "metadata": {
    "executionInfo": {
     "elapsed": 10387,
     "status": "ok",
     "timestamp": 1730881845578,
     "user": {
      "displayName": "Anuj Thakur",
      "userId": "14677829451531454624"
     },
     "user_tz": -330
    },
    "id": "5Nj5oNmaYcOo"
   },
   "outputs": [],
   "source": [
    "X_train_vectorized = vectorizer.fit_transform(X_train)\n",
    "X_test_vectorized = vectorizer.transform(X_test)\n"
   ]
  },
  {
   "cell_type": "code",
   "execution_count": null,
   "metadata": {
    "executionInfo": {
     "elapsed": 526,
     "status": "ok",
     "timestamp": 1730882023560,
     "user": {
      "displayName": "Anuj Thakur",
      "userId": "14677829451531454624"
     },
     "user_tz": -330
    },
    "id": "_KtEdqviYcJc"
   },
   "outputs": [],
   "source": [
    "from sklearn.model_selection import train_test_split\n",
    "from sklearn.linear_model import LogisticRegression"
   ]
  },
  {
   "cell_type": "markdown",
   "metadata": {},
   "source": [
    "Step 4 : Train the model"
   ]
  },
  {
   "cell_type": "code",
   "execution_count": null,
   "metadata": {
    "colab": {
     "base_uri": "https://localhost:8080/",
     "height": 219
    },
    "executionInfo": {
     "elapsed": 105983,
     "status": "ok",
     "timestamp": 1730882211533,
     "user": {
      "displayName": "Anuj Thakur",
      "userId": "14677829451531454624"
     },
     "user_tz": -330
    },
    "id": "pTx7D_PaYbzW",
    "outputId": "98ade186-e63a-466d-cdb4-d363bf93ac94"
   },
   "outputs": [],
   "source": [
    "lr = LogisticRegression()\n",
    "lr.fit(X_train_vectorized, Y_train)"
   ]
  },
  {
   "cell_type": "markdown",
   "metadata": {},
   "source": [
    "Step 5 : Make Predictions on testing data"
   ]
  },
  {
   "cell_type": "code",
   "execution_count": null,
   "metadata": {
    "colab": {
     "base_uri": "https://localhost:8080/"
    },
    "executionInfo": {
     "elapsed": 2329,
     "status": "ok",
     "timestamp": 1730882571120,
     "user": {
      "displayName": "Anuj Thakur",
      "userId": "14677829451531454624"
     },
     "user_tz": -330
    },
    "id": "r0FFN1nFnQrH",
    "outputId": "10da3a3e-efd8-476a-9be1-aabb36dd2a28"
   },
   "outputs": [],
   "source": [
    "y_pred = lr.predict(X_test_vectorized)\n",
    "print(y_pred)"
   ]
  },
  {
   "cell_type": "markdown",
   "metadata": {},
   "source": [
    "Step 6 : Load and use the test solution for data evaluation"
   ]
  },
  {
   "cell_type": "code",
   "execution_count": null,
   "metadata": {
    "executionInfo": {
     "elapsed": 660,
     "status": "ok",
     "timestamp": 1730882968880,
     "user": {
      "displayName": "Anuj Thakur",
      "userId": "14677829451531454624"
     },
     "user_tz": -330
    },
    "id": "t95EARmuqb5K"
   },
   "outputs": [],
   "source": [
    "with open(file_path2, \"r\", encoding=\"utf-8\") as file:\n",
    "    test_sol_lines = file.readlines()"
   ]
  },
  {
   "cell_type": "markdown",
   "metadata": {},
   "source": [
    "Parse the test solution data"
   ]
  },
  {
   "cell_type": "code",
   "execution_count": null,
   "metadata": {
    "executionInfo": {
     "elapsed": 484,
     "status": "ok",
     "timestamp": 1730883181299,
     "user": {
      "displayName": "Anuj Thakur",
      "userId": "14677829451531454624"
     },
     "user_tz": -330
    },
    "id": "QTZZB1QJqhFd"
   },
   "outputs": [],
   "source": [
    "test_sol_data = []\n",
    "for line in test_sol_lines:\n",
    "    parts = line.strip().split(\" ::: \")\n",
    "    test_sol_data.append(parts[2])"
   ]
  },
  {
   "cell_type": "markdown",
   "metadata": {},
   "source": [
    "Convert to Series"
   ]
  },
  {
   "cell_type": "code",
   "execution_count": null,
   "metadata": {
    "executionInfo": {
     "elapsed": 568,
     "status": "ok",
     "timestamp": 1730883184313,
     "user": {
      "displayName": "Anuj Thakur",
      "userId": "14677829451531454624"
     },
     "user_tz": -330
    },
    "id": "CL9hukuxrE5V"
   },
   "outputs": [],
   "source": [
    "Y_test = pd.Series(test_sol_data)"
   ]
  },
  {
   "cell_type": "markdown",
   "metadata": {},
   "source": [
    "Step 7 : Evaluate the model"
   ]
  },
  {
   "cell_type": "code",
   "execution_count": null,
   "metadata": {
    "executionInfo": {
     "elapsed": 473,
     "status": "ok",
     "timestamp": 1730883257818,
     "user": {
      "displayName": "Anuj Thakur",
      "userId": "14677829451531454624"
     },
     "user_tz": -330
    },
    "id": "dH_bY1ZorWzC"
   },
   "outputs": [],
   "source": [
    "from sklearn.metrics import accuracy_score, confusion_matrix"
   ]
  },
  {
   "cell_type": "code",
   "execution_count": null,
   "metadata": {
    "colab": {
     "base_uri": "https://localhost:8080/"
    },
    "executionInfo": {
     "elapsed": 537,
     "status": "ok",
     "timestamp": 1730883496749,
     "user": {
      "displayName": "Anuj Thakur",
      "userId": "14677829451531454624"
     },
     "user_tz": -330
    },
    "id": "-cU_MCburpCH",
    "outputId": "19727cab-aff4-4997-b1d4-06cb27ab15c0"
   },
   "outputs": [],
   "source": [
    "print(\"Accuracy :\",accuracy_score(Y_test, y_pred))\n",
    "print(\"Confusion_Matrix : \\n\" , confusion_matrix(Y_test, y_pred))"
   ]
  }
 ],
 "metadata": {
  "colab": {
   "authorship_tag": "ABX9TyPHDczsmFWk/3d6YBIQ1Kw0",
   "provenance": []
  },
  "kernelspec": {
   "display_name": "Python 3",
   "name": "python3"
  },
  "language_info": {
   "codemirror_mode": {
    "name": "ipython",
    "version": 3
   },
   "file_extension": ".py",
   "mimetype": "text/x-python",
   "name": "python",
   "nbconvert_exporter": "python",
   "pygments_lexer": "ipython3",
   "version": "3.12.6"
  }
 },
 "nbformat": 4,
 "nbformat_minor": 0
}
